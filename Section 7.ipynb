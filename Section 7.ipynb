{
 "cells": [
  {
   "cell_type": "markdown",
   "metadata": {},
   "source": [
    "# Setting up PySpark enviornment"
   ]
  },
  {
   "cell_type": "code",
   "execution_count": 1,
   "metadata": {},
   "outputs": [],
   "source": [
    "from pyspark import SparkContext\n",
    "sc = SparkContext()"
   ]
  },
  {
   "cell_type": "code",
   "execution_count": 2,
   "metadata": {},
   "outputs": [],
   "source": [
    "from pyspark import SQLContext\n",
    "sqlContext = SQLContext(sc)"
   ]
  },
  {
   "cell_type": "code",
   "execution_count": 3,
   "metadata": {},
   "outputs": [],
   "source": [
    "from pyspark.sql.functions import *\n",
    "from pyspark.sql.types import * "
   ]
  },
  {
   "cell_type": "markdown",
   "metadata": {},
   "source": [
    "# Loading from HDFS  "
   ]
  },
  {
   "cell_type": "markdown",
   "metadata": {},
   "source": [
    "Now that the PySpark enviornment has been setup, the next step is to load in the data from Hadoop. Dataframes can be loaded using PySpark in a fashion that is similar to pandas. The variable `inferSchema` tells PySpark  to guess what the datatype of each column in the dataframe is. If the option is set to ```False``` then all columns will be loaded in as strings. We'll start with 2014 green taxi trips."
   ]
  },
  {
   "cell_type": "code",
   "execution_count": 4,
   "metadata": {},
   "outputs": [],
   "source": [
    "green_2014 = sqlContext.read.csv(\"hdfs://namenode:8020/am2786/***/Taxi_2014_green.csv\", header=True,inferSchema=True)"
   ]
  },
  {
   "cell_type": "markdown",
   "metadata": {},
   "source": [
    "The format for timestamps in the green taxi datastamps is set up in a format taht PySpark can't propperly interpret. I deal with this later in the noteboook, but for now I'm making another column whcih will preserve the original string format of datetime columns in the green taxi dataset "
   ]
  },
  {
   "cell_type": "code",
   "execution_count": 13,
   "metadata": {},
   "outputs": [],
   "source": [
    "green_2014 = green_2014.withColumn('pickup_datetime_str', col(\"pickup_datetime\"))"
   ]
  },
  {
   "cell_type": "code",
   "execution_count": 5,
   "metadata": {},
   "outputs": [],
   "source": [
    "yellow_2014 = sqlContext.read.csv(\"hdfs://namenode:8020/am2786/***/Taxi_2014_yellow.csv\", header=True,inferSchema=True)"
   ]
  },
  {
   "cell_type": "markdown",
   "metadata": {},
   "source": [
    "### Cleaning data and assigning columns to proper data types\n",
    "\n",
    "Since the data has been loaded, the next step is to convert the data type of columns in the database to the right data types. When we ask PySpark to infer the schema of the columns within a dataframe, we're essentially asking it \"What datatype does the format of this column resemble?\" If does not resemble anythiing then it will be left as a string. This is what is occuring with some of the columns within the dataframes. The most troublesome one is the `pickup_datetime` feature in the green taxis dataframe. The format of these times is a such: `2014-01-23 06:39:00 PM`. PySpark only recognizes what we in the states call \"military time\" (24-hour clock). We'll have to fix this at a later time, but for now what we'll do is create a duplicate column of `pickup_datetime` called `pickup_datetime_str`. \n",
    "\n"
   ]
  },
  {
   "cell_type": "code",
   "execution_count": 7,
   "metadata": {},
   "outputs": [],
   "source": [
    "# Write a custom function to convert the data type of DataFrame columns\n",
    "def convertColumn(df, names, newType):\n",
    "    for name in names: \n",
    "        df = df.withColumn(name, df[name].cast(newType))\n",
    "    return df "
   ]
  },
  {
   "cell_type": "code",
   "execution_count": 14,
   "metadata": {},
   "outputs": [],
   "source": [
    "# Assign all column names to `columns`\n",
    "columns = ['Tip_amount', 'Total_amount', 'Trip_distance', 'Fare_amount']\n",
    "\n",
    "# Convert the `df` columns to `FloatType()`\n",
    "green_2014_cleaned = convertColumn(green_2014, columns, FloatType())\n",
    "yellow_2014_cleaned = convertColumn(yellow_2014, columns, FloatType())"
   ]
  },
  {
   "cell_type": "code",
   "execution_count": 15,
   "metadata": {},
   "outputs": [],
   "source": [
    "# Convert the `df` columns to `IntegerType ()`\n",
    "green_2014_cleaned = convertColumn(green_2014_cleaned, ['Passenger_count', 'Payment_type'], IntegerType())\n",
    "yellow_2014_cleaned = convertColumn(yellow_2014_cleaned, ['Passenger_count'], IntegerType())"
   ]
  },
  {
   "cell_type": "markdown",
   "metadata": {},
   "source": [
    "To convert our dates, PySpark does have a `DateType()` data type similar to IntegerType() and FloatType() however, using this method to convert datetime objects in PySpark can be unreliable and often results in a columns full null values. The most dependable method is re-create the columns with a specified data type and format, as in the cell below. The built in function `to_timestamp` converts strings to DateType() with the given specific format."
   ]
  },
  {
   "cell_type": "code",
   "execution_count": 16,
   "metadata": {},
   "outputs": [],
   "source": [
    "# Convert the df columns to datetime()\n",
    "from pyspark.sql.functions import to_timestamp\n",
    "green_2014_cleaned = green_2014_cleaned.withColumn(\"pickup_datetime\", to_timestamp(green_2014_cleaned.pickup_datetime, 'MM/dd/yyyy HH:mm:ss'))\n",
    "green_2014_cleaned = green_2014_cleaned.withColumn(\"dropoff_datetime\", to_timestamp(green_2014_cleaned.dropoff_datetime, 'MM/dd/yyyy HH:mm:ss'))\n",
    "yellow_2014_cleaned = yellow_2014_cleaned.withColumn(\"pickup_datetime\", to_timestamp(yellow_2014_cleaned.pickup_datetime))\n",
    "yellow_2014_cleaned = yellow_2014_cleaned.withColumn(\"dropoff_datetime\", to_timestamp(yellow_2014_cleaned.dropoff_datetime))\n"
   ]
  },
  {
   "cell_type": "markdown",
   "metadata": {},
   "source": [
    "#### Outlier and Incorrect Data Entry Detection\n",
    "\n",
    "With any *real* dataset you can bet your last dollar that there will be some data that has been input incorrectly. In the case of our taxi data, this can be:\n",
    "\n",
    "- Recording the incorrect number of passengers\n",
    "- Error with the taxi meter that puts an impossibly *low* or *high* fare\n",
    "\n",
    "Our safest course of action is to get rid of these incorrect taxi trips. In the case of the first issue pertaining to the number of passengers, we can get rid of any trips that have 0 passengers recorded, as this is impossible. For the fare amount we can set some minimum threshold for the fare amount where any trip with a fare less than that is thrown away. Doing a quick Google search reveals that taxis in New York have a $2.50 minimum, meaning that as soon as you step in that is what you are charged. We can use this as our minimum fare threshold. "
   ]
  },
  {
   "cell_type": "code",
   "execution_count": 22,
   "metadata": {},
   "outputs": [],
   "source": [
    "def taxi_data_cleaner(data):\n",
    "    \n",
    "    # Getting rid of rides with 0 passengers\n",
    "    data = data.filter(data.Passenger_count > 0)\n",
    "    \n",
    "    # Getting rid of rides with impossibly low fares\n",
    "    data = data.filter(data.Fare_amount > 1.)\n",
    "    \n",
    "    #Making a feature which measures the % a driver was tipped \n",
    "    data = data.withColumn(\"Tip_percentage\", 100.*(col(\"Tip_amount\")/(col(\"Total_amount\") - col(\"Tip_amount\"))))\n",
    "    \n",
    "    # Adding columns that give the month , day of the week and hour of pickups and dropoffs\n",
    "    data = data.withColumn(\"pickup_dayofweek\", date_format('pickup_datetime', 'u'))\n",
    "    data = data.withColumn(\"dropoff_dayofweek\", date_format('dropoff_datetime', 'u'))\n",
    "    data = data.withColumn(\"pickup_month\", month('pickup_datetime'))\n",
    "    data = data.withColumn(\"dropoff_month\", month('dropoff_datetime'))\n",
    "    data = data.withColumn(\"pickup_hour\", hour('pickup_datetime'))\n",
    "    data = data.withColumn(\"dropoff_hour\", hour('dropoff_datetime'))\n",
    "    return(data)"
   ]
  },
  {
   "cell_type": "code",
   "execution_count": 17,
   "metadata": {},
   "outputs": [],
   "source": [
    "green_2014_cleaned   =taxi_data_cleaner(green_2014_cleaned)\n",
    "yellow_2014_cleaned  = taxi_data_cleaner(yellow_2014_cleaned)\n"
   ]
  },
  {
   "cell_type": "markdown",
   "metadata": {},
   "source": [
    "For datetimes with 'AM' and 'PM' at the end PySPark will record the hour of that datetime as 6 as opposed to 18. To remedy this we can do the following:\n",
    "\n",
    "1. Record if the the last 2 entries inthe datetime string for green taxi trips day 'Am' or 'PM'\n",
    "2. Create a column which maps 'AM' values to the number 0 and PM values to the number 12.  \n",
    "3. Add this new column to the old column `pickup_hour`\n",
    "\n",
    "This will produce the correct results where pxikupis that occured in the PM will have an extra 12 hours added to their pickup hour. We begin with step 1."
   ]
  },
  {
   "cell_type": "code",
   "execution_count": 18,
   "metadata": {},
   "outputs": [],
   "source": [
    "# Mapping AM and PM values so that PM hours are taken into consideration\n",
    "from pyspark.sql.functions import substring\n",
    "\n",
    "# creating column which indicates if a trip occured during AM or PM hours\n",
    "green_2014_cleaned = green_2014_cleaned.withColumn(\"AM/PM\", substring(col(\"pickup_datetime_str\"), 21, 2))\n",
    "\n",
    "\n",
    "# Mapping all trips with AM values to an offset of 0 and all trips with PM values to an offset of 12\n",
    "def translate(mapping):\n",
    "    def translate_(col):\n",
    "        return mapping.get(col)\n",
    "    return udf(translate_, StringType())\n",
    "\n",
    "AM_PM_map = dict( zip(['AM', 'PM'], [0, 12]))\n",
    "\n",
    "\n",
    "# Adding column of which tracks the offset hours (0 for AM trips and 12 for PM trips)\n",
    "green_2014_cleaned = green_2014_cleaned.withColumn(\"hour_offset\", translate(AM_PM_map)(\"AM/PM\"))\n",
    "\n",
    "# Changing `pickup_hour` column to correct hour by adding `hour_offset` to `pickup_hour`\n",
    "green_2014_cleaned = green_2014_cleaned.withColumn(\"pickup_hour\", col(\"pickup_hour\") + col(\"hour_offset\"))\n",
    "\n"
   ]
  },
  {
   "cell_type": "markdown",
   "metadata": {},
   "source": [
    "Now we can look at how the number of trips changing depending on the time of the day. Presumably, this distribution would differ on weeekdays when everyone is working vs. weekends when people are going out to events and parties.\n",
    "\n",
    "To begin we need to group the number of taxi trips by the hour at which they occured. Rmember in the beginning of this notebook, when I stated that the format of of pickup and dropoff datetime columns for green taxis would be a problem? I'll give you a efresher, just in case. Unlike the yellow taxi data, datetimes for green taxi are recorded in AM/PM formae (i.e. ). PySPark can't properly interpret this format, and to illustrate this I'll group both the yellow and green taxi dataframes by the column `pickup_hour`. We created this column earlier and it was meant to track the hour of the day at which each taxi trip started."
   ]
  },
  {
   "cell_type": "code",
   "execution_count": 19,
   "metadata": {},
   "outputs": [],
   "source": [
    "# Creating dataframes which only contain trips that occured on weekdays\n",
    "green_2014_cleaned_weekdays   = green_2014_cleaned.filter(green_2014_cleaned.pickup_dayofweek < 6)\n",
    "yellow_2014_cleaned_weekdays  = yellow_2014_cleaned.filter(yellow_2014_cleaned.pickup_dayofweek < 6)\n",
    "\n",
    "# Creating dataframes which only contain trips that occured on weekends\n",
    "green_2014_cleaned_weekends   = green_2014_cleaned.filter(green_2014_cleaned.pickup_dayofweek > 5)\n",
    "yellow_2014_cleaned_weekends  = yellow_2014_cleaned.filter(yellow_2014_cleaned.pickup_dayofweek > 5)\n",
    "\n",
    "# Getting the average number of trips per hour for all the dataframes\n",
    "green_2014_cleaned_weekdays_binned   = green_2014_cleaned_weekdays.groupby('pickup_hour').count().sort('pickup_hour', ascending=True)\n",
    "yellow_2014_cleaned_weekdays_binned  = yellow_2014_cleaned_weekdays.groupby('pickup_hour').count().sort('pickup_hour', ascending=True)\n",
    "green_2014_cleaned_weekends_binned   = green_2014_cleaned_weekends.groupby('pickup_hour').count().sort('pickup_hour', ascending=True)\n",
    "yellow_2014_cleaned_weekends_binned  = yellow_2014_cleaned_weekends.groupby('pickup_hour').count().sort('pickup_hour', ascending=True)\n",
    "\n"
   ]
  },
  {
   "cell_type": "code",
   "execution_count": 20,
   "metadata": {},
   "outputs": [],
   "source": [
    "green_2014_cleaned_weekdays_binned_Pandas = green_2014_cleaned_weekdays_binned.toPandas()"
   ]
  },
  {
   "cell_type": "code",
   "execution_count": 21,
   "metadata": {},
   "outputs": [],
   "source": [
    "green_2014_cleaned_weekends_binned_Pandas = green_2014_cleaned_weekends_binned.toPandas()"
   ]
  },
  {
   "cell_type": "code",
   "execution_count": 23,
   "metadata": {},
   "outputs": [],
   "source": [
    "yellow_2014_cleaned_weekdays_binned_Pandas = yellow_2014_cleaned_weekdays_binned.toPandas()"
   ]
  },
  {
   "cell_type": "code",
   "execution_count": 24,
   "metadata": {},
   "outputs": [],
   "source": [
    "yellow_2014_cleaned_weekends_binned_Pandas = yellow_2014_cleaned_weekends_binned.toPandas()"
   ]
  },
  {
   "cell_type": "markdown",
   "metadata": {},
   "source": [
    "Now it's time to plot! You'll notice that what was caclulated were *sums* not averages. To average these values we'll have to divide them by the number of weekdays and number of Saturdays + Sundays in a year. "
   ]
  },
  {
   "cell_type": "code",
   "execution_count": 25,
   "metadata": {},
   "outputs": [],
   "source": [
    "import numpy as np\n",
    "import matplotlib.pyplot as plt\n",
    "%matplotlib inline\n",
    "import seaborn as sns"
   ]
  },
  {
   "cell_type": "code",
   "execution_count": 32,
   "metadata": {},
   "outputs": [
    {
     "data": {
      "text/plain": [
       "Text(0,0.5,'')"
      ]
     },
     "execution_count": 32,
     "metadata": {},
     "output_type": "execute_result"
    },
    {
     "data": {
      "image/png": "[encoded data removed]",
      "text/plain": [
       "<matplotlib.figure.Figure at 0x1a1d0e7f60>"
      ]
     },
     "metadata": {},
     "output_type": "display_data"
    }
   ],
   "source": [
    "hours = np.arange(0, 24)   \n",
    "\n",
    "xmin = -1\n",
    "xmax = 24\n",
    "ymin = 0.\n",
    "\n",
    "c_ends = (52.*2)   # Numbers to get the average number of pickups per hour as opposed to the sum\n",
    "c_days = (52.*5)   # Numbers to get the average number of pickups per hour as opposed to the sum\n",
    "\n",
    "space = 0.1   # Sets the amount of empty space in between subplots\n",
    "\n",
    "#Setting up axes limits for plots\n",
    "ymax_yellow = 1.05*np.max(np.array([np.float(yellow_2014_cleaned_weekdays_binned_Pandas['count'].max()/c_days), np.float(yellow_2014_cleaned_weekends_binned_Pandas['count'].max()/c_ends)]))\n",
    "ymax_green = 1.05*np.max(np.array([np.float(green_2014_cleaned_weekdays_binned_Pandas['count'].max()/c_days), np.float(green_2014_cleaned_weekends_binned_Pandas['count'].max()/c_ends)]))\n",
    "\n",
    "\n",
    "# Placing tick marks on x-axis\n",
    "xticks = np.arange(4, 24, 4)\n",
    "xtimes = ['4AM', '8AM', '12PM', '4PM',  '8PM']\n",
    "\n",
    "# Setting font sizes for plot titles and labels\n",
    "f_title = 22\n",
    "f_label = 12\n",
    "f_axis = 17\n",
    "cc = 0.8\n",
    "\n",
    "plt.style.use('fivethirtyeight')  # I like fivethirtyeight style!\n",
    "\n",
    "\n",
    "plt.figure(figsize = (10,6))\n",
    "plt.suptitle('Average Taxi Pickups per Hour', fontsize = f_title)\n",
    "plt.subplots_adjust(left = 0.12, hspace=0.1, wspace=space, top = 0.83)\n",
    "\n",
    "ax1 = plt.subplot(221)\n",
    "plt.title('Weekdays', fontsize = cc*f_title)\n",
    "sns.barplot(hours,yellow_2014_cleaned_weekdays_binned_Pandas['count']/c_days, color = 'gold', label = 'Yellow Taxis')\n",
    "plt.setp( ax1.get_xticklabels(), visible=False)\n",
    "plt.xlim(xmin, xmax)\n",
    "plt.ylim(ymin, ymax_yellow)\n",
    "plt.xticks(xticks, xtimes )\n",
    "plt.ylabel('Avg hourly trips', fontsize = f_axis)\n",
    "plt.legend(loc = 'upper left', fontsize = f_label)\n",
    "ax1.tick_params(pad = 8)    # Padding tick marks so they align perfectly with tick mark from plots on the bottom and aren't too close to plot\n",
    "\n",
    "\n",
    "ax2 = plt.subplot(222)\n",
    "plt.title('Weekends', fontsize = cc*f_title)\n",
    "sns.barplot(hours,yellow_2014_cleaned_weekends_binned_Pandas['count']/c_ends, color = 'gold', label = 'Yellow Taxis')\n",
    "plt.xlim(xmin, xmax)\n",
    "plt.ylim(ymin, ymax_yellow)\n",
    "plt.xticks(xticks, xtimes )\n",
    "plt.legend(loc = 'upper left', fontsize = f_label)\n",
    "plt.setp( ax2.get_xticklabels(), visible=False)\n",
    "plt.setp( ax2.get_yticklabels(), visible=False)\n",
    "plt.ylabel('')\n",
    "\n",
    "\n",
    "ax3 = plt.subplot(223)\n",
    "sns.barplot(hours,green_2014_cleaned_weekdays_binned_Pandas['count']/c_days, color = 'darkgreen', label = 'Green Taxis')\n",
    "plt.xlim(xmin, xmax)\n",
    "plt.ylim(ymin, ymax_green)\n",
    "plt.xticks(xticks, xtimes )\n",
    "plt.legend(loc = 'upper left', fontsize = f_label)\n",
    "plt.ylabel('Avg hourly trips', fontsize = f_axis)\n",
    "ax3.tick_params(pad = 12) # Padding tick marks so they align perfectly with tick mark from plots on the top and aren't too close to plot\n",
    "\n",
    "ax4 = plt.subplot(224)\n",
    "sns.barplot(hours,green_2014_cleaned_weekends_binned_Pandas['count']/c_ends, color = 'darkgreen', label = 'Green Taxis')\n",
    "plt.setp( ax4.get_yticklabels(), visible=False)\n",
    "plt.xlim(xmin, xmax)\n",
    "plt.ylim(ymin, ymax_green)\n",
    "##plt.yticks(yticks_green)\n",
    "plt.xticks(xticks, xtimes )\n",
    "plt.legend(loc = 'upper left', fontsize = f_label)\n",
    "plt.ylabel('')\n",
    "\n",
    "plt.savefig('Final2.png', dpi = 1000)\n",
    "\n",
    "\n"
   ]
  }
 ],
 "metadata": {
  "kernelspec": {
   "display_name": "Python 3",
   "language": "python",
   "name": "python3"
  },
  "language_info": {
   "codemirror_mode": {
    "name": "ipython",
    "version": 3
   },
   "file_extension": ".py",
   "mimetype": "text/x-python",
   "name": "python",
   "nbconvert_exporter": "python",
   "pygments_lexer": "ipython3",
   "version": "3.6.3"
  }
 },
 "nbformat": 4,
 "nbformat_minor": 2
}
